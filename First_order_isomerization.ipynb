{
 "cells": [
  {
   "cell_type": "markdown",
   "id": "0396958b",
   "metadata": {},
   "source": [
    "# First order reactions - isomerization\n",
    "We look at the simplest first order reaction where a reactant $A$ is converted into a product $B$:\n",
    "\n",
    "$A \\rightarrow B$"
   ]
  },
  {
   "cell_type": "markdown",
   "id": "f1cf75cb",
   "metadata": {},
   "source": [
    "### First we load the packages that we need:"
   ]
  },
  {
   "cell_type": "code",
   "execution_count": null,
   "id": "46f4dcc7",
   "metadata": {},
   "outputs": [],
   "source": [
    "import numpy as np\n",
    "from scipy.integrate import odeint\n",
    "import matplotlib.pyplot as plt"
   ]
  },
  {
   "cell_type": "markdown",
   "id": "be2cd0ec",
   "metadata": {},
   "source": [
    "### Define a function that describes the reaction"
   ]
  },
  {
   "cell_type": "code",
   "execution_count": null,
   "id": "9f28c7b6",
   "metadata": {},
   "outputs": [],
   "source": [
    "def reaction(C,t):\n",
    "\tCa = C[0]\n",
    "\tCb = C[1]\n",
    "\n",
    "\tk = 1.0\n",
    "\tdAdt = -k * Ca\n",
    "\tdBdt = k * Ca\n",
    "\n",
    "\treturn [dAdt,dBdt]"
   ]
  },
  {
   "cell_type": "markdown",
   "id": "8f058dd9",
   "metadata": {},
   "source": [
    "### Define our time-variable from 0 to 5s with 100 points"
   ]
  },
  {
   "cell_type": "code",
   "execution_count": null,
   "id": "d81b63aa",
   "metadata": {},
   "outputs": [],
   "source": [
    "t = np.linspace(0,5,100)"
   ]
  },
  {
   "cell_type": "markdown",
   "id": "b1f1e7d2",
   "metadata": {},
   "source": [
    "### Define our initial concentrations of 1 for A and 0 for B"
   ]
  },
  {
   "cell_type": "code",
   "execution_count": null,
   "id": "65a9f52a",
   "metadata": {},
   "outputs": [],
   "source": [
    "C0 = [1,0]"
   ]
  },
  {
   "cell_type": "markdown",
   "id": "ad4c3427",
   "metadata": {},
   "source": [
    "### Integrate the differential equation i.e final concentration"
   ]
  },
  {
   "cell_type": "code",
   "execution_count": null,
   "id": "bc86978e",
   "metadata": {},
   "outputs": [],
   "source": [
    "C = odeint(reaction,C0,t)"
   ]
  },
  {
   "cell_type": "markdown",
   "id": "746ac6ee",
   "metadata": {},
   "source": [
    "### Plot the time-evolution"
   ]
  },
  {
   "cell_type": "code",
   "execution_count": null,
   "id": "6be1d3ee",
   "metadata": {
    "scrolled": false
   },
   "outputs": [],
   "source": [
    "plt.plot(t,C[:,0],'r--',linewidth=2.0)\n",
    "plt.plot(t,C[:,1],'b-',linewidth=2.0)\n",
    "plt.xlabel('Time (s)')\n",
    "plt.ylabel('Concentration')\n",
    "plt.legend(['Ca','Cb'])"
   ]
  },
  {
   "cell_type": "code",
   "execution_count": null,
   "id": "47b2e1d0",
   "metadata": {},
   "outputs": [],
   "source": []
  }
 ],
 "metadata": {
  "kernelspec": {
   "display_name": "Python 3 (ipykernel)",
   "language": "python",
   "name": "python3"
  },
  "language_info": {
   "codemirror_mode": {
    "name": "ipython",
    "version": 3
   },
   "file_extension": ".py",
   "mimetype": "text/x-python",
   "name": "python",
   "nbconvert_exporter": "python",
   "pygments_lexer": "ipython3",
   "version": "3.9.10"
  }
 },
 "nbformat": 4,
 "nbformat_minor": 5
}

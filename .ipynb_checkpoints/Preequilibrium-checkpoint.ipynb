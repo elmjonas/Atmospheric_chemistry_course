{
 "cells": [
  {
   "cell_type": "markdown",
   "id": "0396958b",
   "metadata": {},
   "source": [
    "# Pre-equilirbium reactions\n",
    "\n",
    "Often there is an equilbrium between some chemical species:\n",
    "\n",
    "$A + B \\leftrightharpoons C$\n",
    "\n",
    "The species $C$ can then react to form $D$:\n",
    "\n",
    "$C \\rightarrow D$"
   ]
  },
  {
   "cell_type": "markdown",
   "id": "f1cf75cb",
   "metadata": {},
   "source": [
    "### First we load the packages that we need:"
   ]
  },
  {
   "cell_type": "code",
   "execution_count": 1,
   "id": "46f4dcc7",
   "metadata": {},
   "outputs": [],
   "source": [
    "import numpy as np\n",
    "from scipy.integrate import odeint\n",
    "import matplotlib.pyplot as plt"
   ]
  },
  {
   "cell_type": "markdown",
   "id": "be2cd0ec",
   "metadata": {},
   "source": [
    "### Define a function that describes the reaction"
   ]
  },
  {
   "cell_type": "code",
   "execution_count": 3,
   "id": "9f28c7b6",
   "metadata": {},
   "outputs": [],
   "source": [
    "def reaction(C,t):\n",
    "\tCa = C[0]\n",
    "\tCb = C[1]\n",
    "\tCc = C[2]\n",
    "\tCd = C[3] \n",
    "    \n",
    "\tk1fwd = 2.0 # rate constant for the forward reaction\n",
    "\tk1rev = 1.0 # rate constant for the reverse reaction\n",
    "\tk2 = 2.0 # rate constant for the formation of D\n",
    "    \n",
    "\tdAdt = -k1fwd * Ca * Cb + k1rev * Cc \n",
    "\tdBdt = -k1fwd * Ca * Cb + k1rev * Cc \n",
    "\tdCdt =  k1rev * Ca * Cb - k1rev * Cc - k2 * Cc\n",
    "\tdDdt =  k2 * Cc\n",
    "\n",
    "\treturn [dAdt,dBdt,dCdt,dDdt]"
   ]
  },
  {
   "cell_type": "markdown",
   "id": "8f058dd9",
   "metadata": {},
   "source": [
    "### Define our time-variable from 0 to 5s with 100 points"
   ]
  },
  {
   "cell_type": "code",
   "execution_count": 4,
   "id": "d81b63aa",
   "metadata": {},
   "outputs": [],
   "source": [
    "t = np.linspace(0.0005,10,100)"
   ]
  },
  {
   "cell_type": "markdown",
   "id": "b1f1e7d2",
   "metadata": {},
   "source": [
    "### Define our initial concentrations of 1 for A and B and 0 for C and D"
   ]
  },
  {
   "cell_type": "code",
   "execution_count": 5,
   "id": "65a9f52a",
   "metadata": {},
   "outputs": [],
   "source": [
    "C0 = [1,1,0,0]"
   ]
  },
  {
   "cell_type": "markdown",
   "id": "ad4c3427",
   "metadata": {},
   "source": [
    "### Integrate the differential equation i.e final concentration"
   ]
  },
  {
   "cell_type": "code",
   "execution_count": 6,
   "id": "bc86978e",
   "metadata": {},
   "outputs": [],
   "source": [
    "C = odeint(reaction,C0,t)"
   ]
  },
  {
   "cell_type": "markdown",
   "id": "746ac6ee",
   "metadata": {},
   "source": [
    "### Plot the time-evolution"
   ]
  },
  {
   "cell_type": "code",
   "execution_count": 7,
   "id": "6be1d3ee",
   "metadata": {
    "scrolled": true
   },
   "outputs": [
    {
     "data": {
      "text/plain": [
       "<matplotlib.legend.Legend at 0x1211a90a0>"
      ]
     },
     "execution_count": 7,
     "metadata": {},
     "output_type": "execute_result"
    },
    {
     "data": {
      "image/png": "[encoded data removed]",
      "text/plain": [
       "<Figure size 432x288 with 1 Axes>"
      ]
     },
     "metadata": {
      "needs_background": "light"
     },
     "output_type": "display_data"
    }
   ],
   "source": [
    "plt.plot(t,C[:,0],'r-',linewidth=2.0)\n",
    "plt.plot(t,C[:,1],'r--',linewidth=2.0)\n",
    "plt.plot(t,C[:,2],'b-',linewidth=2.0)\n",
    "plt.plot(t,C[:,3],'b--',linewidth=2.0)\n",
    "plt.xlabel('Time (s)')\n",
    "plt.ylabel('Concentration')\n",
    "plt.legend(['Ca and Cb','Cc','Cd'])"
   ]
  },
  {
   "cell_type": "code",
   "execution_count": null,
   "id": "d4968cc4",
   "metadata": {},
   "outputs": [],
   "source": []
  },
  {
   "cell_type": "code",
   "execution_count": null,
   "id": "549fd5c3",
   "metadata": {},
   "outputs": [],
   "source": []
  }
 ],
 "metadata": {
  "kernelspec": {
   "display_name": "Python 3 (ipykernel)",
   "language": "python",
   "name": "python3"
  },
  "language_info": {
   "codemirror_mode": {
    "name": "ipython",
    "version": 3
   },
   "file_extension": ".py",
   "mimetype": "text/x-python",
   "name": "python",
   "nbconvert_exporter": "python",
   "pygments_lexer": "ipython3",
   "version": "3.9.10"
  }
 },
 "nbformat": 4,
 "nbformat_minor": 5
}

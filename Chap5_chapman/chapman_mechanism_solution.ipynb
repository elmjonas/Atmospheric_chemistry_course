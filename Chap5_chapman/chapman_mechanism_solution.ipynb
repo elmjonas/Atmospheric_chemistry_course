{
 "cells": [
  {
   "cell_type": "markdown",
   "id": "9f3800d5",
   "metadata": {},
   "source": [
    "# The Chapman Mechanism"
   ]
  },
  {
   "cell_type": "markdown",
   "id": "4f7e405b",
   "metadata": {},
   "source": [
    "The chapman mechanism is responsible for the formation of ozone in the stratosphere."
   ]
  },
  {
   "cell_type": "markdown",
   "id": "c9759b52",
   "metadata": {},
   "source": [
    "### First we load the packages that we need"
   ]
  },
  {
   "cell_type": "code",
   "execution_count": null,
   "id": "f0764eb8",
   "metadata": {},
   "outputs": [],
   "source": [
    "import numpy as np\n",
    "from scipy.integrate import odeint\n",
    "import matplotlib.pyplot as plt"
   ]
  },
  {
   "cell_type": "markdown",
   "id": "b0f5df25",
   "metadata": {},
   "source": [
    "### Reaction rate constants"
   ]
  },
  {
   "cell_type": "code",
   "execution_count": null,
   "id": "53a3080a",
   "metadata": {},
   "outputs": [],
   "source": [
    "k1 = 3.0e-12        #    O2 + hv -> 2O      (s-1)\n",
    "k2 = 1.2e-33        # O2 + O + M -> O3 + M  (cm6.molec-2.s-1)\n",
    "k3 = 5.5e-4         #   O3 + hv' -> O + O2  (s-1)\n",
    "k4 = 6.9e-16        #     O + O3 -> 2O2     (cm3.molec-1.s-1)"
   ]
  },
  {
   "cell_type": "markdown",
   "id": "06cfd5d0",
   "metadata": {},
   "source": [
    "### Define a function that describes the reaction"
   ]
  },
  {
   "cell_type": "code",
   "execution_count": null,
   "id": "330d03b9",
   "metadata": {},
   "outputs": [],
   "source": [
    "def d(c, t, M):\n",
    "    \"\"\" Return the d[X]/dt for each species. \"\"\"\n",
    "    \n",
    "    O2, O, O3 = c\n",
    "    \n",
    "    dO2dt = -k1*O2 - k2*M*O*O2 + k3*O3 + 2*k4*O*O3\n",
    "    dOdt = 2*k1*O2 - k2*M*O*O2 + k3*O3 - k4*O*O3\n",
    "    dO3dt = k2*M*O*O2 - k3*O3 - k4*O*O3\n",
    "    return dO2dt, dOdt, dO3dt"
   ]
  },
  {
   "cell_type": "markdown",
   "id": "2640718c",
   "metadata": {},
   "source": [
    "### Total molecule concentration, M, and O2 concentration, cO2"
   ]
  },
  {
   "cell_type": "code",
   "execution_count": null,
   "id": "21d3e877",
   "metadata": {},
   "outputs": [],
   "source": [
    "M = 9.0e17\n",
    "cO2 = 0.21*M"
   ]
  },
  {
   "cell_type": "markdown",
   "id": "cccaa518",
   "metadata": {},
   "source": [
    "### Initial conditions for [O2], [O], [O3]"
   ]
  },
  {
   "cell_type": "code",
   "execution_count": null,
   "id": "f7a4b7fa",
   "metadata": {},
   "outputs": [],
   "source": [
    "c0 = [cO2, 0, 0]"
   ]
  },
  {
   "cell_type": "markdown",
   "id": "e5b3eec2",
   "metadata": {},
   "source": [
    "### Integrate the differential equations over a suitable time grid (s)"
   ]
  },
  {
   "cell_type": "code",
   "execution_count": null,
   "id": "1409ae2b",
   "metadata": {},
   "outputs": [],
   "source": [
    "t = np.linspace(0, 1.e8, 1000)\n",
    "c = odeint(d, c0, t, args=(M,))"
   ]
  },
  {
   "cell_type": "markdown",
   "id": "7421449e",
   "metadata": {},
   "source": [
    "### Steady-state approximation solution for comparison"
   ]
  },
  {
   "cell_type": "code",
   "execution_count": null,
   "id": "e84b4115",
   "metadata": {},
   "outputs": [],
   "source": [
    "cO3ss = np.sqrt(k1 * k2 / k3 / k4 * M) * cO2\n",
    "cOss = k3 * cO3ss / k2 / cO2 / M\n",
    "print('Numerical values:\\n[O] = {:g} molec/cm3, [O3] = {:g} molec/cm3'\n",
    "            .format(*c[-1][1:]))\n",
    "print('Steady-state values:\\n[O]ss = {:g} molec/cm3, [O3]ss = {:g} molec/cm3'\n",
    "            .format(cOss, cO3ss))"
   ]
  },
  {
   "cell_type": "markdown",
   "id": "c14773c6",
   "metadata": {},
   "source": [
    "### Plot the evolution of [O3] and [O] with time"
   ]
  },
  {
   "cell_type": "code",
   "execution_count": null,
   "id": "58f09527",
   "metadata": {},
   "outputs": [],
   "source": [
    "plt.plot(t,c[:,2], c='k', label=r'$\\mathrm{[O_3]}$')\n",
    "plt.plot(t,c[:,1], c='k', ls='--', label=r'$\\mathrm{[O]}$')\n",
    "plt.yscale('log')\n",
    "plt.xlabel(r'$t\\;/\\mathrm{s}$')\n",
    "plt.ylabel(r'$[\\cdot\\,]\\;/\\mathrm{molec\\,cm^{-3}}$')\n",
    "plt.legend()\n",
    "plt.show()"
   ]
  },
  {
   "cell_type": "code",
   "execution_count": null,
   "id": "20f039d7",
   "metadata": {},
   "outputs": [],
   "source": []
  }
 ],
 "metadata": {
  "kernelspec": {
   "display_name": "Python 3 (ipykernel)",
   "language": "python",
   "name": "python3"
  },
  "language_info": {
   "codemirror_mode": {
    "name": "ipython",
    "version": 3
   },
   "file_extension": ".py",
   "mimetype": "text/x-python",
   "name": "python",
   "nbconvert_exporter": "python",
   "pygments_lexer": "ipython3",
   "version": "3.9.10"
  }
 },
 "nbformat": 4,
 "nbformat_minor": 5
}

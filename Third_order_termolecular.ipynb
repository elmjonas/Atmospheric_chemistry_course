{
 "cells": [
  {
   "cell_type": "markdown",
   "id": "0396958b",
   "metadata": {},
   "source": [
    "# Third order reactions\n",
    "Genuine third order reaction of the following type: \n",
    "\n",
    "$A + B + M \\rightarrow$ Products \n",
    "\n",
    "Do not occur in the atmosphere! \n",
    "\n",
    "\n",
    "\n",
    "Lets first look at the association of a vibrationally excited complex of $A$ and $B$:\n",
    "\n",
    "$A + B \\rightarrow C $\n",
    "\n",
    "The excited complex can then react with a third body $M$ forming $D$:\n",
    "\n",
    "$C + M \\rightarrow D + M$"
   ]
  },
  {
   "cell_type": "markdown",
   "id": "f1cf75cb",
   "metadata": {},
   "source": [
    "### First we load the packages that we need:"
   ]
  },
  {
   "cell_type": "code",
   "execution_count": null,
   "id": "46f4dcc7",
   "metadata": {},
   "outputs": [],
   "source": [
    "import numpy as np\n",
    "from scipy.integrate import odeint\n",
    "import matplotlib.pyplot as plt"
   ]
  },
  {
   "cell_type": "markdown",
   "id": "be2cd0ec",
   "metadata": {},
   "source": [
    "### Define a function that describes the reaction"
   ]
  },
  {
   "cell_type": "code",
   "execution_count": null,
   "id": "9f28c7b6",
   "metadata": {},
   "outputs": [],
   "source": [
    "def reaction(C,t):\n",
    "\tCa = C[0]\n",
    "\tCb = C[1]\n",
    "\tCc = C[2]\n",
    "\tCd = C[3]\n",
    "\tCm = C[4]    \n",
    "    \n",
    "\tk1 = 1.0 # rate constant for the complex formation\n",
    "\tk2 = 1.0 # rate constant for the reaction with the third body\n",
    "    \n",
    "\tdAdt = -k1 * Ca * Cb\n",
    "\tdBdt = -k1 * Ca * Cb\n",
    "\tdCdt =  k1 * Ca * Cb - k2 * Cc * Cm\n",
    "\tdDdt =  k2 * Cc * Cm\n",
    "\tdMdt =  0\n",
    "\n",
    "\treturn [dAdt,dBdt,dCdt,dDdt,dMdt]"
   ]
  },
  {
   "cell_type": "markdown",
   "id": "8f058dd9",
   "metadata": {},
   "source": [
    "### Define our time-variable from 0 to 5s with 100 points"
   ]
  },
  {
   "cell_type": "code",
   "execution_count": null,
   "id": "d81b63aa",
   "metadata": {},
   "outputs": [],
   "source": [
    "t = np.linspace(0,10,100)"
   ]
  },
  {
   "cell_type": "markdown",
   "id": "b1f1e7d2",
   "metadata": {},
   "source": [
    "### Define our initial concentrations of 1 for A and B, 0 for C and D, and 1 for M"
   ]
  },
  {
   "cell_type": "code",
   "execution_count": null,
   "id": "65a9f52a",
   "metadata": {},
   "outputs": [],
   "source": [
    "C0 = [1,1,0,0,1]"
   ]
  },
  {
   "cell_type": "markdown",
   "id": "ad4c3427",
   "metadata": {},
   "source": [
    "### Integrate the differential equation i.e final concentration"
   ]
  },
  {
   "cell_type": "code",
   "execution_count": null,
   "id": "bc86978e",
   "metadata": {},
   "outputs": [],
   "source": [
    "C = odeint(reaction,C0,t)"
   ]
  },
  {
   "cell_type": "markdown",
   "id": "746ac6ee",
   "metadata": {},
   "source": [
    "### Plot the time-evolution"
   ]
  },
  {
   "cell_type": "code",
   "execution_count": null,
   "id": "6be1d3ee",
   "metadata": {
    "scrolled": true
   },
   "outputs": [],
   "source": [
    "plt.plot(t,C[:,0],'r-',linewidth=2.0)\n",
    "#plt.plot(t,C[:,1],'r--',linewidth=2.0)\n",
    "plt.plot(t,C[:,2],'b-',linewidth=2.0)\n",
    "plt.plot(t,C[:,3],'b--',linewidth=2.0)\n",
    "#plt.plot(t,C[:,4],'g-',linewidth=2.0)\n",
    "plt.xlabel('Time (s)')\n",
    "plt.ylabel('Concentration')\n",
    "plt.legend(['Ca and Cb','Cc','Cd','Ce'])"
   ]
  }
 ],
 "metadata": {
  "kernelspec": {
   "display_name": "Python 3 (ipykernel)",
   "language": "python",
   "name": "python3"
  },
  "language_info": {
   "codemirror_mode": {
    "name": "ipython",
    "version": 3
   },
   "file_extension": ".py",
   "mimetype": "text/x-python",
   "name": "python",
   "nbconvert_exporter": "python",
   "pygments_lexer": "ipython3",
   "version": "3.9.10"
  }
 },
 "nbformat": 4,
 "nbformat_minor": 5
}
